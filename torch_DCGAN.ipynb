{
  "nbformat": 4,
  "nbformat_minor": 0,
  "metadata": {
    "colab": {
      "name": "torch_DCGAN.ipynb",
      "provenance": [],
      "collapsed_sections": [],
      "authorship_tag": "ABX9TyOzIhLUmKNZvZmiva4t3x10",
      "include_colab_link": true
    },
    "kernelspec": {
      "name": "python3",
      "display_name": "Python 3"
    }
  },
  "cells": [
    {
      "cell_type": "markdown",
      "metadata": {
        "id": "view-in-github",
        "colab_type": "text"
      },
      "source": [
        "<a href=\"https://colab.research.google.com/github/fractal2k/Learning-Deep-Learning/blob/master/torch_DCGAN.ipynb\" target=\"_parent\"><img src=\"https://colab.research.google.com/assets/colab-badge.svg\" alt=\"Open In Colab\"/></a>"
      ]
    },
    {
      "cell_type": "code",
      "metadata": {
        "id": "y2k_ynzSSXYV",
        "colab_type": "code",
        "colab": {
          "base_uri": "https://localhost:8080/",
          "height": 85
        },
        "outputId": "cdd8bb79-619d-41e7-fa29-c46828ba0f4d"
      },
      "source": [
        "!pip install hiddenlayer"
      ],
      "execution_count": null,
      "outputs": [
        {
          "output_type": "stream",
          "text": [
            "Collecting hiddenlayer\n",
            "  Downloading https://files.pythonhosted.org/packages/64/f8/ea51d02695a4dc397f3b2487fae462cd3f2ce707c54250e0fdfaec2ff92e/hiddenlayer-0.3-py3-none-any.whl\n",
            "Installing collected packages: hiddenlayer\n",
            "Successfully installed hiddenlayer-0.3\n"
          ],
          "name": "stdout"
        }
      ]
    },
    {
      "cell_type": "code",
      "metadata": {
        "id": "cfx5zC72Sfm-",
        "colab_type": "code",
        "colab": {}
      },
      "source": [
        "import numpy as np\n",
        "# import hiddenlayer as hl\n",
        "import matplotlib.pyplot as plt\n",
        "%matplotlib inline\n",
        "\n",
        "import torch\n",
        "import torch.nn as nn\n",
        "import torch.nn.functional as F\n",
        "import torch.optim as optim\n",
        "import torchvision"
      ],
      "execution_count": null,
      "outputs": []
    },
    {
      "cell_type": "code",
      "metadata": {
        "id": "fOTuEybbS1LP",
        "colab_type": "code",
        "colab": {}
      },
      "source": [
        "BATCH_SIZE = 128\n",
        "FIXED_BATCH = 16  # Batch size of the fixed vector used to evaluate generator progression\n",
        "EPOCHS = 100\n",
        "Z_LEN = 100  # Length of the latent vector\n",
        "BETA1 = 0.5  # Beta1 parameter of Adam"
      ],
      "execution_count": null,
      "outputs": []
    },
    {
      "cell_type": "code",
      "metadata": {
        "id": "-ENRhaa5S6G9",
        "colab_type": "code",
        "colab": {}
      },
      "source": [
        "transform = torchvision.transforms.Compose([\n",
        "                torchvision.transforms.ToTensor(),\n",
        "                torchvision.transforms.Normalize((0.5,), (0.5,))])\n",
        "\n",
        "trainset = torchvision.datasets.MNIST(root='', train=True, transform=transform, download=True)\n",
        "# You didn't need the testset in the vanilla GAN notebook either you pepega\n",
        "trainloader = torch.utils.data.DataLoader(trainset, batch_size=BATCH_SIZE, shuffle=True, num_workers=2)"
      ],
      "execution_count": null,
      "outputs": []
    },
    {
      "cell_type": "code",
      "metadata": {
        "id": "hOIHOXlOEeIK",
        "colab_type": "code",
        "colab": {}
      },
      "source": [
        "# Make a device variable to use the GPU\n",
        "device = torch.device('cuda:0')"
      ],
      "execution_count": null,
      "outputs": []
    },
    {
      "cell_type": "code",
      "metadata": {
        "id": "VdPVXEkXT6wQ",
        "colab_type": "code",
        "colab": {}
      },
      "source": [
        "# torch.randn() returns random numbers from the standard normal distribution\n",
        "# i.e. with mean 0 and variance 1\n",
        "def generate_noise_samples_gpu(batch_size):\n",
        "    return torch.randn(batch_size, Z_LEN, 1, 1, device=device)\n",
        "\n",
        "def generate_noise_samples_cpu(batch_size):\n",
        "    return torch.randn(batch_size, Z_LEN, 1, 1)"
      ],
      "execution_count": null,
      "outputs": []
    },
    {
      "cell_type": "code",
      "metadata": {
        "id": "3wFhmD0JC9qz",
        "colab_type": "code",
        "colab": {}
      },
      "source": [
        "def display_img(img, num_gen):\n",
        "    npimg = img.detach().numpy()\n",
        "    npimg = npimg / 2 + 0.5\n",
        "    fig = plt.figure(figsize=(4, 4))\n",
        "\n",
        "    if(num_gen == 1):\n",
        "        plt.imshow(npimg, cmap='gray')\n",
        "        plt.axis('off')\n",
        "    else:\n",
        "        for i in range(num_gen):\n",
        "            plt.subplot(4, 4, i + 1)\n",
        "            plt.imshow(npimg[i, :, :], cmap='gray')\n",
        "            plt.axis('off')\n",
        "\n",
        "    plt.show()\n",
        "\n",
        "\n",
        "def save_img(img, num_gen, epoch=None):\n",
        "    npimg = img.detach().numpy()\n",
        "    npimg = npimg / 2 + 0.5\n",
        "    fig = plt.figure(figsize=(4,4))\n",
        "\n",
        "    if(num_gen == 1):\n",
        "        plt.imshow(npimg, cmap='gray')\n",
        "        plt.axis('off')\n",
        "    else:\n",
        "        for i in range(num_gen):\n",
        "            plt.subplot(4, 4, i + 1)\n",
        "            plt.imshow(npimg[i, :, :], cmap='gray')\n",
        "            plt.axis('off')\n",
        "\n",
        "    plt.savefig(f'generated_at_epoch_{epoch}.png' if epoch else 'generated_digits.png')"
      ],
      "execution_count": null,
      "outputs": []
    },
    {
      "cell_type": "code",
      "metadata": {
        "id": "AeI1DDwZVR47",
        "colab_type": "code",
        "colab": {}
      },
      "source": [
        "# The DCGAN paper says that all the weights must be randomly initialized with \n",
        "# mean=0 and stddev=0.02\n",
        "# So, we create a custom function to initialize the weights of the network\n",
        "def weights_initialization(m):\n",
        "    classname = m.__class__.__name__\n",
        "    if classname.find('Conv') != -1:\n",
        "        nn.init.normal_(m.weight.data, 0.0, 0.02)\n",
        "    elif classname.find('BatchNorm') != -1:\n",
        "        nn.init.normal_(m.weight.data, 1.0, 0.02)\n",
        "        nn.init.constant_(m.bias.data, 0)"
      ],
      "execution_count": null,
      "outputs": []
    },
    {
      "cell_type": "code",
      "metadata": {
        "id": "eHKN8b-yHKEn",
        "colab_type": "code",
        "colab": {}
      },
      "source": [
        "# Formula of output dimension after deconvolution:\n",
        "# So = stride(Si - 1) + Sf - 2 * pad\n",
        "# Si = input size, Sf = kernel size\n",
        "class GeneratorNetwork(nn.Module):\n",
        "    def __init__(self):\n",
        "        super(GeneratorNetwork, self).__init__()\n",
        "        self.main = nn.Sequential(\n",
        "            nn.ConvTranspose2d(Z_LEN, 256, 3, bias=False),\n",
        "            nn.BatchNorm2d(256),\n",
        "            nn.ReLU(True),\n",
        "            # Output = 3x3\n",
        "\n",
        "            nn.ConvTranspose2d(256, 128, 3, stride=2, bias=False),\n",
        "            nn.BatchNorm2d(128),\n",
        "            nn.ReLU(True),\n",
        "            # Output = 7x7\n",
        "\n",
        "            nn.ConvTranspose2d(128, 64, 2, stride=2, bias=False),\n",
        "            nn.BatchNorm2d(64),\n",
        "            nn.ReLU(True),\n",
        "            # Output = 14x14\n",
        "\n",
        "            nn.ConvTranspose2d(64, 1, 2, stride=2, bias=False),\n",
        "            nn.Tanh()\n",
        "            # Output = 28x28\n",
        "        )\n",
        "    \n",
        "    def forward(self, input):\n",
        "        return self.main(input)\n",
        "\n",
        "# Net output of the network will be = (batch_size, channels, width, height)\n",
        "# torch.squeeze will get rid of the single channel dimension leaving you with:\n",
        "# (batch_size, width, height)"
      ],
      "execution_count": null,
      "outputs": []
    },
    {
      "cell_type": "code",
      "metadata": {
        "id": "kR7nfRlsHj4y",
        "colab_type": "code",
        "colab": {}
      },
      "source": [
        "# Formula of output dimension after convolution\n",
        "# O = ((I - K + 2P) / S) + 1\n",
        "# I = input height/width, K = kernel size, P = padding, S = stride\n",
        "class DiscriminatorNetwork(nn.Module):\n",
        "    def __init__(self):\n",
        "        super(DiscriminatorNetwork, self).__init__()\n",
        "        self.main = nn.Sequential(\n",
        "            nn.Conv2d(1, 32, 4, 2, 1, bias=False),\n",
        "            nn.LeakyReLU(0.2, inplace=True),\n",
        "            # Output = 14x14\n",
        "\n",
        "            nn.Conv2d(32, 64, 4, 2, 1, bias=False),\n",
        "            nn.BatchNorm2d(64),\n",
        "            nn.LeakyReLU(0.2, inplace=True),\n",
        "            # Output = 7x7\n",
        "\n",
        "            nn.Conv2d(64, 128, 5, 2, 1, bias=False),\n",
        "            nn.BatchNorm2d(128),\n",
        "            nn.LeakyReLU(0.2, inplace=True),\n",
        "            # Output = 3x3\n",
        "\n",
        "            nn.Conv2d(128, 1, 3, 1, 0, bias=False),\n",
        "            nn.Sigmoid()\n",
        "        )\n",
        "    \n",
        "    def forward(self, input):\n",
        "        return self.main(input)"
      ],
      "execution_count": null,
      "outputs": []
    },
    {
      "cell_type": "code",
      "metadata": {
        "id": "R8q1t_akCHxP",
        "colab_type": "code",
        "colab": {}
      },
      "source": [
        "# Apply the custom weight initialization to our networks\n",
        "gen = GeneratorNetwork().to(device)\n",
        "gen.apply(weights_initialization)\n",
        "\n",
        "dis = DiscriminatorNetwork().to(device)\n",
        "dis.apply(weights_initialization)"
      ],
      "execution_count": null,
      "outputs": []
    },
    {
      "cell_type": "code",
      "metadata": {
        "id": "2lbicPQ9cC27",
        "colab_type": "code",
        "colab": {
          "base_uri": "https://localhost:8080/",
          "height": 510
        },
        "outputId": "8ce195d4-654a-428f-d277-ec599f531882"
      },
      "source": [
        "print(gen)\n",
        "print(dis)"
      ],
      "execution_count": null,
      "outputs": [
        {
          "output_type": "stream",
          "text": [
            "GeneratorNetwork(\n",
            "  (main): Sequential(\n",
            "    (0): ConvTranspose2d(100, 256, kernel_size=(3, 3), stride=(1, 1), bias=False)\n",
            "    (1): BatchNorm2d(256, eps=1e-05, momentum=0.1, affine=True, track_running_stats=True)\n",
            "    (2): ReLU(inplace=True)\n",
            "    (3): ConvTranspose2d(256, 128, kernel_size=(3, 3), stride=(2, 2), bias=False)\n",
            "    (4): BatchNorm2d(128, eps=1e-05, momentum=0.1, affine=True, track_running_stats=True)\n",
            "    (5): ReLU(inplace=True)\n",
            "    (6): ConvTranspose2d(128, 64, kernel_size=(2, 2), stride=(2, 2), bias=False)\n",
            "    (7): BatchNorm2d(64, eps=1e-05, momentum=0.1, affine=True, track_running_stats=True)\n",
            "    (8): ReLU(inplace=True)\n",
            "    (9): ConvTranspose2d(64, 1, kernel_size=(2, 2), stride=(2, 2), bias=False)\n",
            "    (10): Tanh()\n",
            "  )\n",
            ")\n",
            "DiscriminatorNetwork(\n",
            "  (main): Sequential(\n",
            "    (0): Conv2d(1, 32, kernel_size=(4, 4), stride=(2, 2), padding=(1, 1), bias=False)\n",
            "    (1): LeakyReLU(negative_slope=0.2, inplace=True)\n",
            "    (2): Conv2d(32, 64, kernel_size=(4, 4), stride=(2, 2), padding=(1, 1), bias=False)\n",
            "    (3): BatchNorm2d(64, eps=1e-05, momentum=0.1, affine=True, track_running_stats=True)\n",
            "    (4): LeakyReLU(negative_slope=0.2, inplace=True)\n",
            "    (5): Conv2d(64, 128, kernel_size=(5, 5), stride=(2, 2), padding=(1, 1), bias=False)\n",
            "    (6): BatchNorm2d(128, eps=1e-05, momentum=0.1, affine=True, track_running_stats=True)\n",
            "    (7): LeakyReLU(negative_slope=0.2, inplace=True)\n",
            "    (8): Conv2d(128, 1, kernel_size=(3, 3), stride=(1, 1), bias=False)\n",
            "    (9): Sigmoid()\n",
            "  )\n",
            ")\n"
          ],
          "name": "stdout"
        }
      ]
    },
    {
      "cell_type": "code",
      "metadata": {
        "id": "Hx5EBDb1cxn1",
        "colab_type": "code",
        "colab": {}
      },
      "source": [
        "# Define loss criterion for the network\n",
        "criterion = nn.BCELoss()\n",
        "\n",
        "# We create a batch of latent vectors that we will input to the generator at \n",
        "# multiple stages in the training to see the progression of our generator\n",
        "fixed_noise = generate_noise_samples(FIXED_BATCH)\n",
        "\n",
        "# Define optimizers for both the networks\n",
        "gen_opt = optim.Adam(gen.parameters(), lr=0.0002, betas=(BETA1, 0.999))\n",
        "dis_opt = optim.Adam(dis.parameters(), lr=0.0002, betas=(BETA1, 0.999))"
      ],
      "execution_count": null,
      "outputs": []
    },
    {
      "cell_type": "code",
      "metadata": {
        "id": "50fXwf_UfAPG",
        "colab_type": "code",
        "colab": {
          "base_uri": "https://localhost:8080/",
          "height": 34
        },
        "outputId": "9329013e-b803-40cd-bd41-24ffe05938e2"
      },
      "source": [
        "gen_history = hl.History()\n",
        "dis_history = hl.History()\n",
        "plot = hl.Canvas()\n",
        "iters = 0\n",
        "\n",
        "# Training loop\n",
        "for epoch in range(EPOCHS):\n",
        "    # Iterate over each batch in the dataloader\n",
        "    for i, data in enumerate(trainloader, 0):\n",
        "        inputs, labels = data\n",
        "        ip = inputs.cuda(device)\n",
        "\n",
        "        # Resetting discriminator gradients\n",
        "        dis_opt.zero_grad()\n",
        "\n",
        "        # ======Training the Discriminator======\n",
        "        # Real inputs\n",
        "        real_outputs = dis(ip)\n",
        "        real_labels = torch.ones_like(real_outputs)\n",
        "        real_loss = criterion(real_outputs, real_labels)\n",
        "        real_loss.backward()\n",
        "\n",
        "        # Fake inputs\n",
        "        gen_inputs = generate_noise_samples(BATCH_SIZE)\n",
        "        fake_inputs = gen(gen_inputs)\n",
        "        fake_outputs = dis(fake_inputs)\n",
        "        fake_labels = torch.zeros_like(fake_outputs)\n",
        "        fake_loss = criterion(fake_outputs, fake_labels)\n",
        "        fake_loss.backward()\n",
        "\n",
        "        # Calculating total loss for discriminator\n",
        "        total_loss = real_loss + fake_loss\n",
        "        \n",
        "        # Update discriminator parameters\n",
        "        dis_opt.step()\n",
        "\n",
        "\n",
        "        # Resetting generator gradients\n",
        "        gen_opt.zero_grad()\n",
        "\n",
        "        # ======Training the Generator======\n",
        "        gen_inputs = generate_noise_samples(BATCH_SIZE)\n",
        "        dis_inputs = gen(gen_inputs)\n",
        "        dis_outputs = dis(dis_inputs)\n",
        "        gen_labels = torch.ones_like(dis_outputs)\n",
        "        gen_loss = criterion(dis_outputs, gen_labels)\n",
        "        gen_loss.backward()\n",
        "\n",
        "        # Update generator parameters\n",
        "        gen_opt.step()\n",
        "\n",
        "\n",
        "        # Update loss plot after every 10 minibatches\n",
        "        if i % 10 == 0:\n",
        "            dis_history.log(i, loss=total_loss)\n",
        "            gen_history.log(i, loss=gen_loss)\n",
        "            plot.draw_plot([dis_history['loss'], gen_history['loss']])\n",
        "        \n",
        "        # Check out how generator is doing by saving generator's output on\n",
        "        # fixed noise\n",
        "        if (iters % 500 == 0) or ((epoch == EPOCHS - 1) and (i == len(trainloader) - 1)):\n",
        "            with torch.no_grad():\n",
        "                fake = torch.squeeze(gen(fixed_noise).detach().cpu())\n",
        "                save_img(fake, FIXED_BATCH, epoch=epoch)\n",
        "        iters += 1\n",
        "\n",
        "print('Finished Training')"
      ],
      "execution_count": null,
      "outputs": [
        {
          "output_type": "stream",
          "text": [
            "Buffered data was truncated after reaching the output size limit."
          ],
          "name": "stdout"
        }
      ]
    },
    {
      "cell_type": "code",
      "metadata": {
        "id": "jIgP_rIRkFH4",
        "colab_type": "code",
        "colab": {
          "base_uri": "https://localhost:8080/",
          "height": 248
        },
        "outputId": "91b61b26-56a8-4508-ba0d-e031c8712eda"
      },
      "source": [
        "with torch.no_grad():\n",
        "    pred_inputs = generate_noise_samples(FIXED_BATCH)\n",
        "    generated = torch.squeeze(gen(pred_inputs).detach().cpu())\n",
        "    display_img(generated, FIXED_BATCH)"
      ],
      "execution_count": null,
      "outputs": [
        {
          "output_type": "display_data",
          "data": {
            "image/png": "[encoded data removed]",
            "text/plain": [
              "<Figure size 288x288 with 16 Axes>"
            ]
          },
          "metadata": {
            "tags": [],
            "needs_background": "light"
          }
        }
      ]
    },
    {
      "cell_type": "code",
      "metadata": {
        "id": "j5AZSB0BV2lW",
        "colab_type": "code",
        "colab": {}
      },
      "source": [
        "torch.save(gen.state_dict(), './dcgan_gen_state_dict.pt')\n",
        "torch.save(dis.state_dict(), './dcgan_dis_state_dict.pt')"
      ],
      "execution_count": null,
      "outputs": []
    },
    {
      "cell_type": "code",
      "metadata": {
        "id": "0X8hhbicWPn_",
        "colab_type": "code",
        "colab": {
          "base_uri": "https://localhost:8080/",
          "height": 34
        },
        "outputId": "ac242797-cbf2-4776-a96b-2717e9b92610"
      },
      "source": [
        "# Loading the saved model\n",
        "new_gen = GeneratorNetwork()\n",
        "new_gen.load_state_dict(torch.load('./dcgan_gen_state_dict.pt', map_location=torch.device('cpu')))"
      ],
      "execution_count": null,
      "outputs": [
        {
          "output_type": "execute_result",
          "data": {
            "text/plain": [
              "<All keys matched successfully>"
            ]
          },
          "metadata": {
            "tags": []
          },
          "execution_count": 5
        }
      ]
    },
    {
      "cell_type": "code",
      "metadata": {
        "id": "PjSUyVU3ALNM",
        "colab_type": "code",
        "colab": {
          "base_uri": "https://localhost:8080/",
          "height": 248
        },
        "outputId": "304f91a2-408c-4e02-f3fc-19b017647269"
      },
      "source": [
        "with torch.no_grad():\n",
        "    inp = generate_noise_samples_cpu(FIXED_BATCH)\n",
        "    preds = torch.squeeze(new_gen(inp).detach())\n",
        "    display_img(preds, FIXED_BATCH)"
      ],
      "execution_count": null,
      "outputs": [
        {
          "output_type": "display_data",
          "data": {
            "image/png": "[encoded data removed]",
            "text/plain": [
              "<Figure size 288x288 with 16 Axes>"
            ]
          },
          "metadata": {
            "tags": [],
            "needs_background": "light"
          }
        }
      ]
    },
    {
      "cell_type": "code",
      "metadata": {
        "id": "5_kucDKMd6vI",
        "colab_type": "code",
        "colab": {
          "base_uri": "https://localhost:8080/",
          "height": 248
        },
        "outputId": "7b5b9470-9419-4b5b-dc06-fbaa20e93d5f"
      },
      "source": [
        "with torch.no_grad():\n",
        "    inp = generate_noise_samples_cpu(FIXED_BATCH)\n",
        "    preds = torch.squeeze(new_gen(inp).detach())\n",
        "    save_img(preds, FIXED_BATCH)"
      ],
      "execution_count": null,
      "outputs": [
        {
          "output_type": "display_data",
          "data": {
            "image/png": "[encoded data removed]",
            "text/plain": [
              "<Figure size 288x288 with 16 Axes>"
            ]
          },
          "metadata": {
            "tags": [],
            "needs_background": "light"
          }
        }
      ]
    },
    {
      "cell_type": "code",
      "metadata": {
        "id": "dhUoVolBA3Iw",
        "colab_type": "code",
        "colab": {}
      },
      "source": [
        "# Visualizing models\n",
        "gen_model = GeneratorNetwork()\n",
        "hl_gen = hl.build_graph(gen_model, torch.zeros([1, 100, 1, 1]))\n",
        "hl_gen.theme = hl.graph.THEMES['blue'].copy()\n",
        "hl_gen.save('generator_model_diagram', format='png')"
      ],
      "execution_count": null,
      "outputs": []
    },
    {
      "cell_type": "code",
      "metadata": {
        "id": "v67D1HrU3c-1",
        "colab_type": "code",
        "colab": {}
      },
      "source": [
        "dis_model = DiscriminatorNetwork()\n",
        "hl_dis = hl.build_graph(dis_model, torch.zeros([1, 1, 28, 28]))\n",
        "hl_dis.theme = hl.graph.THEMES['blue'].copy()\n",
        "hl_dis.save('discriminator_model_diagram', format='png')"
      ],
      "execution_count": null,
      "outputs": []
    },
    {
      "cell_type": "code",
      "metadata": {
        "id": "fO2nNzoX5erM",
        "colab_type": "code",
        "colab": {}
      },
      "source": [
        ""
      ],
      "execution_count": null,
      "outputs": []
    }
  ]
}